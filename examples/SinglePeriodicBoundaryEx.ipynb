{
 "cells": [
  {
   "cell_type": "markdown",
   "id": "6afbe16f-7c44-4ae0-b19d-6c99b73ca1c5",
   "metadata": {
    "editable": true,
    "slideshow": {
     "slide_type": ""
    },
    "tags": []
   },
   "source": [
    "# Using the Topological Advection Algorithm\n",
    "\n",
    "## Periodic Boundaries Case\n",
    "\n",
    "Let's look at how to use the topological advection algorithm.  In this notebook we will consider the case of trajectories that live on a domain with periodic boundary conditions.  Generically this means doubly periodic boundary conditions (i.e. a torus), however, here we will look at an example with a single periodic boundary ()  We will generate some trajectories and then get to work."
   ]
  },
  {
   "cell_type": "code",
   "execution_count": null,
   "id": "2c3b69b9-9184-4fea-8425-9e1486e6d41f",
   "metadata": {
    "editable": true,
    "slideshow": {
     "slide_type": ""
    },
    "tags": []
   },
   "outputs": [],
   "source": [
    "import numpy as np\n",
    "import sys\n",
    "import scipy.io as sio\n",
    "sys.path.append(\"../src\")  # accessing the source folder\n",
    "import topological_advection as TA\n",
    "import matplotlib.pyplot as plt\n",
    "from scipy.integrate import solve_ivp"
   ]
  },
  {
   "cell_type": "markdown",
   "id": "d4153d76-9200-4a06-a894-ddf993c8e00f",
   "metadata": {
    "editable": true,
    "slideshow": {
     "slide_type": ""
    },
    "tags": []
   },
   "source": [
    "### Example System\n",
    "\n",
    "Let's use the Bickley Jet as an example system.  A description of this analytically defined flow can be found [in this arXiv paper](https://arxiv.org/abs/1704.05716).  We provide $\\vec{V}(x,y,t)$ and use an ODE solver to get the trajectories from $\\frac{d \\vec{r}}{dt} = \\vec{V}(x,y,t)$.  This example is periodic in the x-direction only, and we will detail how to deal  "
   ]
  },
  {
   "cell_type": "code",
   "execution_count": null,
   "id": "d22a853d-0789-45ba-aceb-e86965ea0e59",
   "metadata": {
    "editable": true,
    "slideshow": {
     "slide_type": ""
    },
    "tags": []
   },
   "outputs": [],
   "source": [
    "#global parameters for the Bickly Jet (units will all be in Mm,hours)\n",
    "U_b = 0.06266*60*60/1000 #This is a characteristic velocity measured in Mm/hour (converted from km/s)\n",
    "L_b = 1.770  #This is a characteristic length (in Mm)\n",
    "r0 = 6.371   #The mean radius of Earth in Mm\n",
    "k_1 = 2/r0   #the Rossby wave number k_1\n",
    "k_2 = 4/r0   #the Rossby wave number k_2\n",
    "k_3 = 6/r0   #the Rossby wave number k_3\n",
    "#These wavenumbers are taken for a lattitude of -pi/3 (south from the equator ... -pi/2 would be south pole)\n",
    "k_b = [k_1,k_2,k_3]  #the Rossby wave numbers [k_1,k_2,k_3]\n",
    "c_3 = 0.461*U_b\n",
    "c_2 = 0.205*U_b\n",
    "c_1 = c_3 + ((math.sqrt(5)-1)/2)*(k_b[2]/k_b[1])*(c_2-c_3)\n",
    "c_b = [c_1,c_2,c_3]   #The Rossby wave speeds\n",
    "eps_1 = 0.075   #the 1st Rossby wave amplitude\n",
    "eps_2 = 0.4     #the 2nd Rossby wave amplitude\n",
    "eps_3 = 0.3     #the 3st Rossby wave amplitude\n",
    "eps_b = [eps_1,eps_2,eps_3]   #The Rossby wave amplitudes\n",
    "params = [U_b,L_b,k_b,c_b,eps_b]  #just repackaging the parameters to pass into the various functions\n",
    "\n",
    "#Computational Parameters\n",
    "T_i = 0  #Starting time\n",
    "T_f = 11*24  #Final time in hours (converted from days) (usually without the factor of 2)\n",
    "\n",
    "x_l = 0   #Rectangular Domain, x-range left (in Mm)\n",
    "x_r = math.pi*r0   #Rectangular Domain, x-range right (in Mm) ... this works out to be about 20 Mm\n",
    "y_b = -3   #Rectangular Domain, y-range bottom (in Mm)\n",
    "y_t = 3   #Rectangular Domain, y-range top (in Mm)\n",
    "\n",
    "T_num = 400 #The number of time-steps to take (will use equal time-step evolution for advected particles)\n",
    "#dt = (T_f-T_i)/T_num   #The time-step to use\n",
    "times = np.linspace(T_i, T_f, T_num)  #the set of times used in the ode solver\n",
    "\n",
    "#The velocity vector function\n",
    "def VelFunc(z,t,p):\n",
    "    x,y = z\n",
    "    U,L,k,c,eps = p\n",
    "    vx0 = U*np.cosh(y/L)**(-2)\n",
    "    vx1_0 = sum([eps[i]*np.exp(1j*k[i]*(x-c[i]*t)) for i in range(1,3)])\n",
    "    vx1 = 2*U*np.cosh(y/L)**(-3)*np.sinh(y/L)*vx1_0.real\n",
    "    vy1_0 = sum([eps[i]*1j*k[i]*np.exp(1j*k[i]*(x-c[i]*t)) for i in range(1,3)])\n",
    "    vy1 = U*L*np.cosh(y/L)**(-2)*vy1_0.real\n",
    "    return [vx0+vx1,vy1]\n",
    "\n"
   ]
  },
  {
   "cell_type": "markdown",
   "id": "435dece5-c3c6-4f12-9376-45b475d2be35",
   "metadata": {},
   "source": [
    "### How to Structure Trajectory Data\n",
    "\n",
    "Now we can illustrate features of the topological advection algorithm with this trajectory set.  The very first thing to to is make sure that we have the correct data structure for the trajectories.  Currently Traj has the signature Traj[trajectory id][time][x/y], but we need to have it as time slices (time as the first index): Tslice[time][trajectory id][x/y].  So, let's reformat it:"
   ]
  },
  {
   "cell_type": "code",
   "execution_count": null,
   "id": "5e9fc388-3b89-4aa9-a946-093af892b4e9",
   "metadata": {},
   "outputs": [],
   "source": [
    "# converting a set of trajectories to a set of time-slices\n",
    "Tslices = []\n",
    "for t in range(len(times)):\n",
    "    Tslices.append([Traj[p][t].tolist() for p in range(len(Traj))])"
   ]
  },
  {
   "cell_type": "markdown",
   "id": "a7c86bc2-bb7b-47aa-af14-c5e61efba3c4",
   "metadata": {},
   "source": [
    "### Topological Advection Object Initialization\n",
    "\n",
    "First we need to initialize a topological_advection object with the time-slices and time array.  We can optionally pass in the bounding domain, if we know it (if we don't, it will be automatically calculated from min/max x/y trajectory values).\n",
    "\n",
    "Also, importantly, we are letting the PeriodicBC flag take its default value of False, indicating that we will use the module for bounded trajectories (and not for periodic boundary conditions)."
   ]
  },
  {
   "cell_type": "code",
   "execution_count": null,
   "id": "bd9eef1c-0ec3-46f6-b79b-88948e2f360f",
   "metadata": {},
   "outputs": [],
   "source": [
    "# Domain=[[x_l, y_b], [x_r, y_t]] could pass this in, but better to let\n",
    "# the bounding rectangle be calculated automatically\n",
    "TopAdvec = TA.TopologicalAdvection(Tslices, times)"
   ]
  },
  {
   "cell_type": "markdown",
   "id": "88b279c8-7a5d-42fc-97ad-374a2d0f8d3d",
   "metadata": {},
   "source": [
    "### Triangulation Plotting\n",
    "\n",
    "Before doing any work with this object, let's first plot the triangulation to see what we have. "
   ]
  },
  {
   "cell_type": "code",
   "execution_count": null,
   "id": "2cb0b99a-c980-4aee-bc10-394565212bdc",
   "metadata": {},
   "outputs": [],
   "source": [
    "# Don't have a loop to plot yet, so we set PlotLoop = False\n",
    "# We want to plot the triangulation at the intial time-slice, so\n",
    "# set Initial = True\n",
    "TopAdvec.Plot(PlotLoop = False, Initial = True)"
   ]
  },
  {
   "cell_type": "markdown",
   "id": "2832dc96-2fd5-4e4e-9641-ed19422a877a",
   "metadata": {},
   "source": [
    "### Plotting Parameters\n",
    "\n",
    "The first step to plotting is to set the PlotParamters attribute of our TopAdvec object (there are default values, but you might want to change them). If you want to know the current set of values for the plotting parameters, use the PrintPlotParameters method:"
   ]
  },
  {
   "cell_type": "code",
   "execution_count": null,
   "id": "416942e1-edf4-4255-9bd4-181e5b0d677d",
   "metadata": {},
   "outputs": [],
   "source": [
    "TopAdvec.PrintPlotParameters()"
   ]
  },
  {
   "cell_type": "markdown",
   "id": "10133e76-e592-4a26-a01b-0cf7b6148643",
   "metadata": {},
   "source": [
    "### Modifying Plotting Parameters\n",
    "\n",
    "To modify the plotting parameters, we call the set SetPlotParameters method.  Let's view the boundary points by setting boundary_points = True, set the point maker size to be larger (markersize = 2), change the triangluation line color (linecolor_tri = 'c'), and line width (linewidth_tri = 1.5)"
   ]
  },
  {
   "cell_type": "code",
   "execution_count": null,
   "id": "47903964-5966-4173-b0a9-e60e62f3f268",
   "metadata": {},
   "outputs": [],
   "source": [
    "TopAdvec.SetPlotParameters(markersize = 2, boundary_points = True,\n",
    "                           linecolor_tri = 'c', linewidth_tri = 1.5)\n",
    "TopAdvec.Plot(PlotLoop = False, Initial = True)"
   ]
  },
  {
   "cell_type": "markdown",
   "id": "30cf1878-b2a5-4569-a4fc-d1ef225eb5a6",
   "metadata": {},
   "source": [
    "To restore the default plotting parameters, use the ResetPlotParametersDefault method:"
   ]
  },
  {
   "cell_type": "code",
   "execution_count": null,
   "id": "f941be36-f19f-462b-bd55-e4d4c6c542bd",
   "metadata": {},
   "outputs": [],
   "source": [
    "TopAdvec.ResetPlotParametersDefault()"
   ]
  },
  {
   "cell_type": "markdown",
   "id": "289dd4c3-ae72-4c4b-b40a-d2c76faed33e",
   "metadata": {},
   "source": [
    "### Finding Topological Entropy\n",
    "\n",
    "Before getting to creating and plotting loops, let's take a look at one of the main things this algorithm was build for: finding the topological entropy of a flow (really a lower bound on this given the trajectory set).  To find the topological entropy simply use the GetTopologicalEntropy method:"
   ]
  },
  {
   "cell_type": "code",
   "execution_count": null,
   "id": "695ae0a7-7210-4ca6-8423-bdd5b9d2fa84",
   "metadata": {},
   "outputs": [],
   "source": [
    "# the TE, fitting error, and weight list are returned\n",
    "# they are also set as attributes of TopAdvec, i.e. \n",
    "# TopAdvec.TopologicalEntropy = [TE, TE_err] and \n",
    "# TopAdvec.TotalWeightOverTime = WeightsM\n",
    "TE, TE_err, Weights = TopAdvec.GetTopologicalEntropy()\n",
    "print(\"The Topological Entropy is \", TE, \" +/- \", TE_err)\n",
    "# Note that a progress bar is displayed to give you a sense of how long the\n",
    "# Triangulation evolution will take."
   ]
  },
  {
   "cell_type": "markdown",
   "id": "3f799398-8fb4-4b69-98c7-448758b97d8d",
   "metadata": {},
   "source": [
    "Note that the topological entropy is given in units of inverse time (which is set by your units for the time array).\n",
    "\n",
    "The TE is calculated by fitting the log of the total weights (total weight is a measure of loop length) vs. time to a straight line (exponential stretching, so slope of this line is TE).  We can plot the weight data to see how good the fit is:"
   ]
  },
  {
   "cell_type": "code",
   "execution_count": null,
   "id": "9de816c3-2ff7-4973-93c4-9511377ca0a3",
   "metadata": {},
   "outputs": [],
   "source": [
    "plt.plot(TopAdvec.Times, TopAdvec.TotalWeightOverTime)\n",
    "plt.xlabel(\"Time\")\n",
    "plt.ylabel(\"Loop Length\")\n",
    "plt.title(\"Exponential Increase in Loop Length over Time\")\n",
    "plt.show()"
   ]
  },
  {
   "cell_type": "code",
   "execution_count": null,
   "id": "580bd85c-2b65-44a0-b8cd-c97bad8d9ab3",
   "metadata": {},
   "outputs": [],
   "source": [
    "# Plotting with similogy to see the linear fit\n",
    "W_0 = TopAdvec.TotalWeightOverTime[0]\n",
    "T_0 = TopAdvec.Times[0]\n",
    "TE = TopAdvec.TopologicalEntropy[0]\n",
    "Weight_Fit = [W_0*np.exp(TE*(t-T_0)) for t in TopAdvec.Times]\n",
    "plt.semilogy(TopAdvec.Times, TopAdvec.TotalWeightOverTime, c='b', label='weight data')\n",
    "plt.semilogy(TopAdvec.Times, Weight_Fit, c='k', label='linear fit')\n",
    "plt.xlabel(\"Time\")\n",
    "plt.ylabel(\"Loop Length\")\n",
    "plt.legend()\n",
    "plt.title(\"Topological Entropy as Slope of log Weights\")\n",
    "ax = plt.gca()\n",
    "plt.text(0.3, 0.7, 'TE (slope) = '+str(TE), horizontalalignment='center',\n",
    "     verticalalignment='center', transform=ax.transAxes,fontsize = 10)\n",
    "plt.show()"
   ]
  },
  {
   "cell_type": "markdown",
   "id": "68fd756e-9f34-474b-8708-cd6be55b8949",
   "metadata": {},
   "source": [
    "### Final Triangulation Plotting\n",
    "\n",
    "The triangulation has been evolved forward as part of the topological entropy calculation, so we could plot the final triangulation:"
   ]
  },
  {
   "cell_type": "code",
   "execution_count": null,
   "id": "104f56bc-050d-42f8-b5fd-648570d9628a",
   "metadata": {},
   "outputs": [],
   "source": [
    "# Viewing with the boundary control points\n",
    "TopAdvec.SetPlotParameters(boundary_points = True)\n",
    "# note that we have set Initial = False to plot the final triangluation\n",
    "TopAdvec.Plot(PlotLoop = False, Initial = False)"
   ]
  },
  {
   "cell_type": "markdown",
   "id": "a7c1caaf-bc6e-4c04-8d45-44c88643bac4",
   "metadata": {},
   "source": [
    "### Evolving the Triangulation\n",
    "\n",
    "The above triangulation has a lot of long, skinny triangles in it, as the GetTopologicalEntropy method evolves the triangulation forward using collapse events only.  We certainly could use this to plot loops, but it looks much nicer to have a Delaunay triangulation.  One can re-evolve the triangulation with the Delaunay = True flag set."
   ]
  },
  {
   "cell_type": "code",
   "execution_count": null,
   "id": "8abf32fa-afd3-4f6b-b1b7-5d9ef32bc81c",
   "metadata": {},
   "outputs": [],
   "source": [
    "# Evolve the triangulation again, maintaining a Delaunay triangulation\n",
    "TopAdvec.EvolveTri(Delaunay = True)\n",
    "# plot the final triangulation again\n",
    "TopAdvec.Plot(PlotLoop = False, Initial = False)"
   ]
  },
  {
   "cell_type": "markdown",
   "id": "b2ae1f95-e32d-44d2-b5fc-29e6281f750a",
   "metadata": {},
   "source": [
    "### Geometric Curves\n",
    "\n",
    "Now let's see about initializing loops.  We do this using the CurveSet object (accessed as an attribute of our TopAdvec object).  This has methods for adding geometric curves to a curve set that will then be used to initialize a topological loop.  We'll look a a few examples:"
   ]
  },
  {
   "cell_type": "code",
   "execution_count": null,
   "id": "c8de3255-878e-4820-8463-87825817d3bc",
   "metadata": {},
   "outputs": [],
   "source": [
    "# Don't need to clear the curve right now, but if there were any curves\n",
    "# previously added to the curve set, we would need to clear them:\n",
    "TopAdvec.ClearCurves()\n",
    "# We add an ellipse to the curve set\n",
    "TopAdvec.CurveSet.AddEllipse(center=[4.5, 0.0], a=1.0, b=0.5,\n",
    "                             phi=np.pi/4, NumPoints=200)\n",
    "# Add a vertical line to the curve set\n",
    "TopAdvec.CurveSet.AddVerticalLine(x_val = 3.0)\n",
    "# Add a custom curve to the curve set\n",
    "x_pts = np.linspace(0.5, 2.5,100)\n",
    "y_pts = np.square(x_pts-1.5)-0.5\n",
    "points = np.array([x_pts,y_pts]).T\n",
    "TopAdvec.CurveSet.AddOpenCurve(points)"
   ]
  },
  {
   "cell_type": "markdown",
   "id": "f8547f68-880a-4519-b5e3-bf77c38226a7",
   "metadata": {},
   "source": [
    "### Topological Loop Initialization and Plotting\n",
    "\n",
    "Now we initialize a topological loop with these accumulated geometric curves.  Note that while the curves are allowed to overlap (won't break anything), the way the crossings are re-connected is determined by the triangulation locally at the crossing point (which we don't control), so you should just make sure your curves do not overlap to begin with."
   ]
  },
  {
   "cell_type": "code",
   "execution_count": null,
   "id": "6f0a710d-7672-46be-8663-53981f1e3fca",
   "metadata": {},
   "outputs": [],
   "source": [
    "# First initialize the loop with the curves\n",
    "TopAdvec.InitializeLoopWithCurves()\n",
    "# now plot the topological loops\n",
    "TopAdvec.Plot(Initial = True)  # note that PlotLoop = True is the default"
   ]
  },
  {
   "cell_type": "markdown",
   "id": "2b3f3602-861c-44bb-8b56-e73131a6060c",
   "metadata": {},
   "source": [
    "A few things to note about loop plotting:  First, loops are topological objects, and what is plotted is neccesarily a particular geometric representation of the loop (based on using the Voronoi diagram dual to the Delaunay triangulation as control points).  This representation is topologically equivalent to the initializing geometric curves (can be deformed into one-another without going through the trajectory points - i.e. isotopic).  Second, geometric curves that are 'open' will have their ends wrap around the nearest point so that their loop is closed.  Third, what is being plotted is actually a train-track (segments of a loop that go though a given triangle are bundled together into one segment, which splits and merges with other segments; all while being tangent at splitting point).  As the loop becomes more convoluted, the train-track provides a way to visualize the aspects of the topological loop data.  What is lost in this representation is how many pieces of the loop have been bundled together (i.e. the weights/intersection coordinates).  In a moment we will see a few way to encode this information in the plot."
   ]
  },
  {
   "cell_type": "markdown",
   "id": "2566d2db-4d17-4286-9eea-dd46cabc0b70",
   "metadata": {},
   "source": [
    "### Evolving Loops Forward\n",
    "\n",
    "Now that the triangulation has been evolved forward to the final time (and therefore has accumulated an ordered list of weight operators), we can evolve any loop forward very efficiently (evolving a loop forward is a few orders of magnitude faster than evolving the whole triangulation forward).  To evolve the current loop forward just use the EvolveLoop method:"
   ]
  },
  {
   "cell_type": "code",
   "execution_count": null,
   "id": "89ba5a5d-54e5-4863-a3ca-8a4c9122edd4",
   "metadata": {},
   "outputs": [],
   "source": [
    "# Evolve the current loop forwards (there are actually two copies of the loop in the TopAdvec.LoodData object,\n",
    "# and only one is evolved forwards - this is to allow plotting a given loop at both the initial and final times).\n",
    "TopAdvec.EvolveLoop()\n",
    "# Now plot the loop in its final state\n",
    "TopAdvec.Plot(PlotLoop = True, Initial = False)"
   ]
  },
  {
   "cell_type": "markdown",
   "id": "cdc2e3ab-64d8-4ffc-813f-7577b04e8156",
   "metadata": {},
   "source": [
    "### Plotting Options for Highlighting Weights\n",
    "\n",
    "The above train-tracks plot of the loop after being advected forwards fills up much of the domain (because this is a mixing flow).  You can see some sets of points that are not divided by the train-track - these are potential candidates for coherent structures/sets.  However, we don't know which of the weights are large and which are small.  There are two ways of highlighting weights when plotting: by color and by line width.  Lets' first consider color:"
   ]
  },
  {
   "cell_type": "code",
   "execution_count": null,
   "id": "8de6ecf2-a694-4ed2-b160-7a7592fb8add",
   "metadata": {},
   "outputs": [],
   "source": [
    "# Set the plot parameter color_weights to True.\n",
    "TopAdvec.SetPlotParameters(color_weights = True)\n",
    "TopAdvec.Plot(PlotLoop = True, Initial = False)"
   ]
  },
  {
   "cell_type": "markdown",
   "id": "4bf941cf-d1f3-45ca-b844-5f0f7e1b37a3",
   "metadata": {},
   "source": [
    "The darker train-track segments indicate larger weights, and the lighter are smaller weights.  The default setting for the color_map is 'inferno_r', which you can change if you have a favorite (try to use only perceptually uniform sequential color maps).  The default for how we assign a weight a color is given by log_color = True (the linear color scale is mapped onto the log of the weights, highlighting the full spectrum of weights).  For the next plot, let's set log_color = False, and let's turn off the background triangulation, which is getting crowded, and set the boundary back to normal:"
   ]
  },
  {
   "cell_type": "code",
   "execution_count": null,
   "id": "81813f26-5a41-4c49-a064-8f2ede5161bf",
   "metadata": {},
   "outputs": [],
   "source": [
    "TopAdvec.SetPlotParameters(log_color = False, triplot = False, boundary_points = False)\n",
    "TopAdvec.Plot(PlotLoop = True, Initial = False)"
   ]
  },
  {
   "cell_type": "markdown",
   "id": "525f7eaf-7695-423b-af4f-b8c68df7f8c0",
   "metadata": {},
   "source": [
    "With the colors being linear in the weights, the plot highlights the very largest weights most.  Next, let's see how to encode the weight data in the width of the train-track segments.  We do this with the DelaunayAdd = True plot parameter.  We will also turn the color weights off.  The DelaunayAdd option plots the train-track segments with a line width that scales linearly with weight (max line width is set with linewidth_tt).  The individual segments then perceptually add as they merge at junctions.  A minimum linewidth (under which all lines are plotted with this width) is set using tt_lw_min_frac (default = 0.05 means a maximum linewidth of 10 gives a minimum linewidth of 0.5)."
   ]
  },
  {
   "cell_type": "code",
   "execution_count": null,
   "id": "09eca8cb-e95b-4a24-8c8e-1acaee0c6004",
   "metadata": {},
   "outputs": [],
   "source": [
    "TopAdvec.SetPlotParameters(DelaunayAdd = True, linewidth_tt = 10.0, color_weights = False)\n",
    "TopAdvec.Plot(PlotLoop = True, Initial = False)"
   ]
  },
  {
   "cell_type": "markdown",
   "id": "0270f62d-a622-4e23-968b-bc789aee54e2",
   "metadata": {},
   "source": [
    "The distribution of weights is now strikingly apparent.  If the original curve represented a material curve of dye in the fluid, this plot represents information on the relative dye concentration in different regions after being advected forward in time."
   ]
  },
  {
   "cell_type": "markdown",
   "id": "a8502e97-c171-46e6-8191-653cf16cfe3e",
   "metadata": {},
   "source": [
    "## Making Videos\n",
    "\n",
    "We can also make a movie of the evolution of this loop using the MovieFigures method.  This creates figures of the loop/triangulation at each timestep and outputs them to a folder.  You can then use your favorite video editing software (like ffmpeg) to stitch these together into a movie.  For this option, it is best if the steps between timeslices are uniform.  Again the first step is to get your plotting attributes set the way you want them (these will be consistent across all the movie frames)."
   ]
  },
  {
   "cell_type": "code",
   "execution_count": null,
   "id": "cd9ffcff-8f9f-405a-8db4-d3396a12f52d",
   "metadata": {},
   "outputs": [],
   "source": [
    "# Let's reduce the dpi (dot per inch) and FigureSizeX (width of the figure in inches - the height is automatically \n",
    "# set to maintain the aspect ratio), so that the image files will be smaller.\n",
    "TopAdvec.SetPlotParameters(FigureSizeX = 6, dpi =  150, linewidth_tt = 5.0)\n",
    "TopAdvec.Plot(PlotLoop = True, Initial = False)"
   ]
  },
  {
   "cell_type": "code",
   "execution_count": null,
   "id": "c68a409a-537a-4046-9437-ea3c540bed26",
   "metadata": {},
   "outputs": [],
   "source": [
    "# Now create the movie figures.  Will use the default settings for the folder name, file names,\n",
    "# and file type:\n",
    "TopAdvec.MovieFigures(PlotLoop=True, Delaunay=True, ImageFolder=\"MovieImages/\",\n",
    "                      ImageName=\"EvolvingLoop\", filetype=\".png\")"
   ]
  },
  {
   "cell_type": "markdown",
   "id": "b62d2dbf-33e1-46b0-a01a-fa7bcdb22bd8",
   "metadata": {},
   "source": [
    "Now to create the movie from the images, you can run ffmpeg with the following setup in your terminal:\n",
    "\n",
    "ffmpeg -r 25 -i \"MovieImages/EvolvingLoop%04d.png\" -vcodec libx265 -crf 28 -pix_fmt yuv420p AdvectingLoop.mp4"
   ]
  },
  {
   "cell_type": "code",
   "execution_count": null,
   "id": "bcef9ec1-2194-4ed4-ba49-26fbe6ba592e",
   "metadata": {},
   "outputs": [],
   "source": []
  }
 ],
 "metadata": {
  "kernelspec": {
   "display_name": "Python [conda env:base] *",
   "language": "python",
   "name": "conda-base-py"
  },
  "language_info": {
   "codemirror_mode": {
    "name": "ipython",
    "version": 3
   },
   "file_extension": ".py",
   "mimetype": "text/x-python",
   "name": "python",
   "nbconvert_exporter": "python",
   "pygments_lexer": "ipython3",
   "version": "3.10.16"
  }
 },
 "nbformat": 4,
 "nbformat_minor": 5
}
