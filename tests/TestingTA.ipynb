{
 "cells": [
  {
   "cell_type": "code",
   "execution_count": 1,
   "id": "2c3b69b9-9184-4fea-8425-9e1486e6d41f",
   "metadata": {},
   "outputs": [],
   "source": [
    "import sys\n",
    "import scipy.io as sio\n",
    "import numpy as np\n",
    "sys.path.append(\"../src\")\n",
    "import TopologicalAdvection as TA\n",
    "import matplotlib.pyplot as plt"
   ]
  },
  {
   "cell_type": "code",
   "execution_count": 2,
   "id": "f82af92e-6bab-4b40-8d34-f95fdb8dee16",
   "metadata": {},
   "outputs": [
    {
     "name": "stdout",
     "output_type": "stream",
     "text": [
      "There are  2227  time-steps, and  20000  potential trajectories.\n"
     ]
    }
   ],
   "source": [
    "filein_contents = sio.loadmat('tau.1.05_20000pt_.01step.mat')\n",
    "times = filein_contents['times'][:,0].tolist()\n",
    "xin = filein_contents['x_coordinates'].tolist()\n",
    "yin = filein_contents['y_coordinates'].tolist()\n",
    "print(\"There are \", len(times), \" time-steps, and \",len(xin), \" potential trajectories.\")"
   ]
  },
  {
   "cell_type": "code",
   "execution_count": 3,
   "id": "5e9fc388-3b89-4aa9-a946-093af892b4e9",
   "metadata": {},
   "outputs": [],
   "source": [
    "numtraj_vals = [5,10,20,40,80,160,320,640,1280,2560,5120,10240,20000]\n",
    "val_choice = 5\n",
    "#val_choice = -1\n",
    "numtraj = numtraj_vals[val_choice]\n",
    "traj = []\n",
    "for t in range(len(times)):\n",
    "    traj.append([[xin[i][t],yin[i][t]] for i in range(numtraj)])"
   ]
  },
  {
   "cell_type": "code",
   "execution_count": 4,
   "id": "a53a2efe-65e1-44a5-8f88-fd958a4c3949",
   "metadata": {},
   "outputs": [],
   "source": [
    "num_times = -1\n",
    "TopAdvec = TA.TopologicalAdvection(traj[:num_times], times[:num_times])"
   ]
  },
  {
   "cell_type": "code",
   "execution_count": null,
   "id": "25fb02bf-23c3-4581-adab-ba3776908b24",
   "metadata": {},
   "outputs": [],
   "source": [
    "TopAdvec.SetPrintParameters(markersize = 1, dpi = 200, triplot = True, boundary_points = False)\n",
    "TopAdvec.Plot(PlotLoop = False, Initial = True)"
   ]
  },
  {
   "cell_type": "code",
   "execution_count": null,
   "id": "d52b480d-d30f-4e1e-94c5-2d934cd40614",
   "metadata": {
    "scrolled": true
   },
   "outputs": [],
   "source": [
    "TE, TE_err, Weights = TopAdvec.GetTopologicalEntropy()"
   ]
  },
  {
   "cell_type": "code",
   "execution_count": null,
   "id": "ce8de299-1a31-42c1-8028-0f70722fd647",
   "metadata": {},
   "outputs": [],
   "source": [
    "plt.plot(TopAdvec.Times, TopAdvec.TotalWeightOverTime)\n",
    "plt.show()\n",
    "plt.semilogy(TopAdvec.Times, TopAdvec.TotalWeightOverTime)\n",
    "plt.show()"
   ]
  },
  {
   "cell_type": "code",
   "execution_count": null,
   "id": "1ec46a8e-344a-4637-a719-d9a0ae8b8ec9",
   "metadata": {},
   "outputs": [],
   "source": [
    "print(TopAdvec.Domain)"
   ]
  },
  {
   "cell_type": "code",
   "execution_count": null,
   "id": "c2e2154b-1f5c-48fd-bc8b-f0dbe4c3b9fb",
   "metadata": {},
   "outputs": [],
   "source": [
    "TopAdvec.ClearCurves()\n",
    "TopAdvec.CurveGenerator.AddEllipse([2.5,0.0], 2.0, 0.5, phi = 0.0)"
   ]
  },
  {
   "cell_type": "code",
   "execution_count": null,
   "id": "fdb08096-1212-4728-b978-cd7f6eea1dec",
   "metadata": {},
   "outputs": [],
   "source": [
    "TopAdvec.LoadCurves()"
   ]
  },
  {
   "cell_type": "code",
   "execution_count": null,
   "id": "b32733f1-a000-4b4a-8b34-53abaf87bd01",
   "metadata": {},
   "outputs": [],
   "source": [
    "TopAdvec.Plot(Initial = True)"
   ]
  },
  {
   "cell_type": "code",
   "execution_count": null,
   "id": "ae00c5f5-fc98-4e2f-9493-368d13740521",
   "metadata": {},
   "outputs": [],
   "source": [
    "TopAdvec.EvolveLoop()"
   ]
  },
  {
   "cell_type": "code",
   "execution_count": null,
   "id": "b37b3387-9ae7-453c-a46b-11f925866978",
   "metadata": {},
   "outputs": [],
   "source": [
    "TopAdvec.Plot(Initial = False)"
   ]
  },
  {
   "cell_type": "code",
   "execution_count": null,
   "id": "4c08eb7b-144b-41f6-b027-9d2aeab22e6d",
   "metadata": {},
   "outputs": [],
   "source": [
    "TopAdvec.ResetTri()\n",
    "TopAdvec.EvolveTri(Delaunay = True)\n",
    "TopAdvec.LoadCurves()\n",
    "TopAdvec.EvolveLoop()"
   ]
  },
  {
   "cell_type": "code",
   "execution_count": null,
   "id": "12431c4f-3a7f-4107-b33b-fbb36df57e56",
   "metadata": {},
   "outputs": [],
   "source": [
    "TopAdvec.Plot(Initial = False)"
   ]
  },
  {
   "cell_type": "code",
   "execution_count": null,
   "id": "c66f67fc-f084-49b4-b625-3e2226dd4202",
   "metadata": {},
   "outputs": [],
   "source": []
  },
  {
   "cell_type": "code",
   "execution_count": null,
   "id": "e0751e7d-2814-49a8-83af-e188c2a3e07e",
   "metadata": {},
   "outputs": [],
   "source": [
    "TopAdvec.ClearCurves()\n",
    "#TopAdvec.CurveGenerator.AddEllipse([2.5,0.0], 2.0, 0.5, phi = 0.0)\n",
    "#TopAdvec.CurveGenerator.AddCircle([2.5,0.0], 0.5)\n",
    "#TopAdvec.CurveGenerator.AddRectangle([3.0,0.0], 4.0, 1.0, phi = 0.0)\n",
    "#TopAdvec.CurveGenerator.AddSquare([3.0,0.0], 1.5, phi = np.pi/4)\n",
    "#TopAdvec.CurveGenerator.AddVerticalLine(x_val = 2.1)\n",
    "TopAdvec.CurveGenerator.AddHorizontalLine(y_val = 0.0)\n",
    "#TopAdvec.CurveGenerator.AddLineSegment([0.7,0.2], [4.6,-0.2])\n",
    "#x_pts = np.linspace(0.4, 5.1,100)\n",
    "#y_pts = 0.6*np.sin(4*x_pts)\n",
    "#points = np.array([x_pts,y_pts]).T\n",
    "#TopAdvec.CurveGenerator.AddOpenCurve(points)\n",
    "#TopAdvec.CurveGenerator.AddClosedCurve(points)\n",
    "TopAdvec.LoadCurves()\n",
    "TopAdvec.Plot(Initial = True)"
   ]
  },
  {
   "cell_type": "code",
   "execution_count": null,
   "id": "2e590c57-0aa3-46a1-8e18-e52405590809",
   "metadata": {},
   "outputs": [],
   "source": [
    "TopAdvec.MovieFigures(PlotLoop = False, Delaunay = False)"
   ]
  },
  {
   "cell_type": "code",
   "execution_count": null,
   "id": "1b91f22a-91ba-4b94-9fff-123f43943307",
   "metadata": {},
   "outputs": [],
   "source": [
    "#ffmpeg -r 24 -pattern_type glob -i '*.png'  -vcodec libx264 -crf 25 -pix_fmt yuv420p DelaunayTriangulation.mp4"
   ]
  },
  {
   "cell_type": "code",
   "execution_count": null,
   "id": "a2f24396-ccb9-4ca7-ae06-80454675bf16",
   "metadata": {},
   "outputs": [],
   "source": [
    "TopAdvec.ResetTri()\n",
    "TopAdvec.EvolveTri(Delaunay = True)"
   ]
  },
  {
   "cell_type": "code",
   "execution_count": null,
   "id": "84cdfdb3-b253-4bb3-9b90-9d1dfbdbbcf7",
   "metadata": {},
   "outputs": [],
   "source": [
    "TopAdvec.ClearCurves()\n",
    "TopAdvec.CurveGenerator.AddHorizontalLine(y_val = 0.01)\n",
    "#TopAdvec.CurveGenerator.AddLineSegment([0.2,0.0], [5.0,0.0])\n",
    "TopAdvec.LoadCurves()\n",
    "TopAdvec.EvolveLoop()"
   ]
  },
  {
   "cell_type": "code",
   "execution_count": null,
   "id": "e3a12616-e3fe-4ac6-9a09-f4c8ca1ce007",
   "metadata": {},
   "outputs": [],
   "source": [
    "TopAdvec.Plot(PlotLoop = True, Initial = False)"
   ]
  },
  {
   "cell_type": "code",
   "execution_count": null,
   "id": "0fe84bc9-0336-4764-891d-0e901505bbb0",
   "metadata": {},
   "outputs": [],
   "source": [
    "TopAdvec.SetPrintParameters(experimental = True, linewidth_tt = 6,color_weights = True, log_color = False, boundary_points = True)\n",
    "TopAdvec.Plot(PlotLoop = True, Initial = False)"
   ]
  },
  {
   "cell_type": "code",
   "execution_count": null,
   "id": "a84ab6bf-21e9-4f0c-a98b-9071b582ad16",
   "metadata": {},
   "outputs": [],
   "source": [
    "TopAdvec.SetPrintParameters(experimental = False, linewidth_tt = 1.0, color_weights = True, log_color = False, boundary_points = True)\n",
    "TopAdvec.Plot(PlotLoop = True, Initial = False)"
   ]
  },
  {
   "cell_type": "code",
   "execution_count": null,
   "id": "77d99fa3-fb70-426b-b919-546cd7f7f396",
   "metadata": {},
   "outputs": [],
   "source": [
    "TopAdvec.MovieFigures(PlotLoop = True, Delaunay = True)"
   ]
  },
  {
   "cell_type": "code",
   "execution_count": null,
   "id": "c880fb6b-0922-4222-8de6-53e91bcf4afe",
   "metadata": {},
   "outputs": [],
   "source": []
  }
 ],
 "metadata": {
  "kernelspec": {
   "display_name": "Python 3 (ipykernel)",
   "language": "python",
   "name": "python3"
  },
  "language_info": {
   "codemirror_mode": {
    "name": "ipython",
    "version": 3
   },
   "file_extension": ".py",
   "mimetype": "text/x-python",
   "name": "python",
   "nbconvert_exporter": "python",
   "pygments_lexer": "ipython3",
   "version": "3.10.9"
  }
 },
 "nbformat": 4,
 "nbformat_minor": 5
}
