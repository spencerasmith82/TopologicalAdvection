{
 "cells": [
  {
   "cell_type": "code",
   "execution_count": 1,
   "id": "2c3b69b9-9184-4fea-8425-9e1486e6d41f",
   "metadata": {},
   "outputs": [],
   "source": [
    "import sys\n",
    "import scipy.io as sio\n",
    "sys.path.append(\"../src\")\n",
    "import TopologicalAdvection as TA"
   ]
  },
  {
   "cell_type": "code",
   "execution_count": 6,
   "id": "f82af92e-6bab-4b40-8d34-f95fdb8dee16",
   "metadata": {},
   "outputs": [],
   "source": [
    "\n",
    "FDsizes = [100,100] #the Fundamental Domain goes from 0 to FDsizes[0] in the x direction, and 0 to FDsizes[1] in the y direction\n",
    "#One inportant thing to note is that we need to have all of our trajectories lie in a fundamental domain who's lower left corner is (0,0).\n",
    "Domain = [[0,0], FDsizes]\n",
    "\n",
    "traj = []\n",
    "file = open(\"ensemble2.txt\",\"r\")\n",
    "tempSlice = []\n",
    "for line in file:\n",
    "    if line == \"\\n\":\n",
    "        traj.append(tempSlice)\n",
    "        tempSlice = []\n",
    "    else:\n",
    "        vals = line.split()\n",
    "        tempSlice.append([float(vals[0]),float(vals[1])])\n",
    "    \n",
    "times = [i for i in range(len(traj))]"
   ]
  },
  {
   "cell_type": "code",
   "execution_count": 7,
   "id": "c9064b18-11a3-48c3-b473-9682f843f1bc",
   "metadata": {},
   "outputs": [],
   "source": [
    "TopAdvec = TA.TopologicalAdvection(traj, times, Domain, PeriodicBC = True)"
   ]
  },
  {
   "cell_type": "code",
   "execution_count": 8,
   "id": "1c8bbd81-457a-4954-a927-cfdb0cbaa3a3",
   "metadata": {},
   "outputs": [
    {
     "data": {
      "text/plain": [
       "[100, 100]"
      ]
     },
     "execution_count": 8,
     "metadata": {},
     "output_type": "execute_result"
    }
   ],
   "source": [
    "TopAdvec.TriInit.FDsizes"
   ]
  },
  {
   "cell_type": "code",
   "execution_count": null,
   "id": "2354d2ad-e9ad-4ae6-a38f-39b736899c01",
   "metadata": {},
   "outputs": [],
   "source": [
    "#test loop initialization\n",
    "\n",
    "loop1 = TA.Loop(triInit, rbands = [[0,1]], curves = None, Shear = False, mesh = False)\n",
    "loop2 = TA.Loop(triInit, rbands = None, curves = [[[[10,10],[50,10],[50,50],[10,50]],True]], Shear = False, mesh = False)\n",
    "loop3 = TA.Loop(triInit, rbands = None, curves = [[[[10,10],[50,10],[50,50],[10,50]],True]], Shear = True, mesh = False)\n",
    "loop4 = TA.Loop(triInit, rbands = None, curves = None, Shear = True, mesh = True)"
   ]
  },
  {
   "cell_type": "code",
   "execution_count": null,
   "id": "4b68071b-5bbc-472c-b2bc-d4f8bc42256a",
   "metadata": {},
   "outputs": [],
   "source": [
    "\n",
    "triInit.Plot(loop2)\n"
   ]
  },
  {
   "cell_type": "code",
   "execution_count": null,
   "id": "5d520e7e-7a91-4002-bd6c-fef1ee9df08f",
   "metadata": {},
   "outputs": [],
   "source": [
    "tri.OperatorAction(loop1, index = None, Reverse = False, option = 3)\n",
    "tri.OperatorAction(loop2, index = None, Reverse = False, option = 1)\n",
    "tri.OperatorAction(loop3, index = None, Reverse = False, option = 2)\n",
    "tri.OperatorAction(loop4, index = None, Reverse = False, option = 1)"
   ]
  },
  {
   "cell_type": "code",
   "execution_count": null,
   "id": "f7ce03f8-771a-4d0c-b920-dc7f00ecbeed",
   "metadata": {},
   "outputs": [],
   "source": [
    "PP = TA.PrintParameters(Delaunay = True, experimental = True , linewidth_tt = 6, frac = 0.99, color_weights = False, log_color = False)\n",
    "tri.Plot(loop2,PP)"
   ]
  },
  {
   "cell_type": "code",
   "execution_count": null,
   "id": "5abd51d5-e892-4f55-ab95-97504af9b7b4",
   "metadata": {},
   "outputs": [],
   "source": []
  }
 ],
 "metadata": {
  "kernelspec": {
   "display_name": "Python 3 (ipykernel)",
   "language": "python",
   "name": "python3"
  },
  "language_info": {
   "codemirror_mode": {
    "name": "ipython",
    "version": 3
   },
   "file_extension": ".py",
   "mimetype": "text/x-python",
   "name": "python",
   "nbconvert_exporter": "python",
   "pygments_lexer": "ipython3",
   "version": "3.10.9"
  }
 },
 "nbformat": 4,
 "nbformat_minor": 5
}
